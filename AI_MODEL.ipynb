{
  "nbformat": 4,
  "nbformat_minor": 0,
  "metadata": {
    "colab": {
      "provenance": []
    },
    "kernelspec": {
      "name": "python3",
      "display_name": "Python 3"
    },
    "language_info": {
      "name": "python"
    }
  },
  "cells": [
    {
      "cell_type": "code",
      "execution_count": null,
      "metadata": {
        "id": "7djkN4g2Sm15"
      },
      "outputs": [],
      "source": [
        "# Import necessary libraries\n",
        "import pandas as pd\n",
        "from sklearn.model_selection import train_test_split\n",
        "from sklearn.linear_model import LogisticRegression\n",
        "from sklearn.preprocessing import LabelEncoder\n",
        "from sklearn.metrics import accuracy_score, classification_report\n",
        "import numpy as np  # Import numpy for reshaping\n",
        "\n",
        "# Load the dataset (already done in this case)\n",
        "df = pd.read_csv('GG.csv')  # Adjust the path if needed\n",
        "\n",
        "# Clean up the 'Response ' column (removing extra space)\n",
        "df.rename(columns={'Response ': 'Response'}, inplace=True)\n",
        "\n",
        "# Handle missing values in the 'Response' column\n",
        "df['Response'].fillna('No', inplace=True)  # Assuming missing responses mean 'No'\n",
        "\n",
        "# Convert 'Response' column to binary (1 for YES, 0 for NO)\n",
        "df['Response'] = df['Response'].apply(lambda x: 1 if x.strip().lower() == 'yes' else 0)\n",
        "\n",
        "# Encode the 'Sectors' column using LabelEncoder\n",
        "le = LabelEncoder()\n",
        "df['Sectors'] = le.fit_transform(df['Sectors'])  # Convert sectors to numeric labels\n",
        "\n",
        "# Define features (X) and target (y)\n",
        "X = df[['Sectors']]  # Using sector as a feature\n",
        "y = df['Response']  # Binary target: 1 (YES), 0 (NO)\n",
        "\n",
        "# Split the dataset into training and testing sets\n",
        "X_train, X_test, y_train, y_test = train_test_split(X, y, test_size=0.2, random_state=42)\n",
        "\n",
        "# Initialize the Logistic Regression model\n",
        "logreg = LogisticRegression()\n",
        "\n",
        "# Train the model\n",
        "logreg.fit(X_train, y_train)\n",
        "\n",
        "# Make predictions on the test set\n",
        "y_pred = logreg.predict(X_test)\n",
        "\n",
        "# Evaluate the model\n",
        "accuracy = accuracy_score(y_test, y_pred)\n",
        "report = classification_report(y_test, y_pred)\n",
        "\n",
        "# Output results\n",
        "print(\"Model Accuracy:\", accuracy)\n",
        "print(\"Classification Report:\\n\", report)\n",
        "\n",
        "# To predict communication failure for a new sector\n",
        "new_sector = le.transform(['Sector 1'])  # Encode the new sector\n",
        "prediction = logreg.predict(new_sector.reshape(-1, 1))  # Reshape for prediction\n",
        "\n",
        "# Output the prediction\n",
        "print(f\"Prediction for SECTOR 1: {'YES' if prediction[0] == 1 else 'NO'}\")\n"
      ]
    },
    {
      "cell_type": "markdown",
      "source": [
        "MODEL\n"
      ],
      "metadata": {
        "id": "LWtTgELwSn6a"
      }
    }
  ]
}